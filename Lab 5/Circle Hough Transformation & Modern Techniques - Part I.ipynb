{
 "cells": [
  {
   "cell_type": "markdown",
   "metadata": {},
   "source": [
    "# <p style=\"text-align: center;\"> CSCI-455 | Computer Vision Systems </p>\n",
    "<p style=\"text-align: center;\">Circle Edges Detection and Hough Transform - Part I</p>\n",
    "<p style=\"text-align: center;\">Spring 2020</p>"
   ]
  },
  {
   "cell_type": "code",
   "execution_count": 1,
   "metadata": {},
   "outputs": [],
   "source": [
    "import cv2\n",
    "import numpy as np\n",
    "from matplotlib import pyplot as plt\n",
    "from skimage.feature import peak_local_max"
   ]
  },
  {
   "cell_type": "markdown",
   "metadata": {},
   "source": [
    "<div class=\"alert alert-block alert-warning\">\n",
    "    1. Things to Recap\n",
    "</div>"
   ]
  },
  {
   "cell_type": "markdown",
   "metadata": {},
   "source": [
    "### 1. Reading & Edge Detection"
   ]
  },
  {
   "cell_type": "code",
   "execution_count": 2,
   "metadata": {},
   "outputs": [
    {
     "data": {
      "image/png": "[encoded data removed]",
      "text/plain": [
       "<Figure size 720x720 with 2 Axes>"
      ]
     },
     "metadata": {
      "needs_background": "light"
     },
     "output_type": "display_data"
    }
   ],
   "source": [
    "Box = cv2.imread('Boxes.png')\n",
    "\n",
    "Box_edges = cv2.Canny(Box, 100, 200, 1, 7, True) \n",
    "\n",
    "plt.figure(figsize=(10,10))\n",
    "plt.subplot(1, 2, 1)\n",
    "plt.imshow(Box, cmap='gray')\n",
    "plt.subplot(1, 2, 2)\n",
    "plt.imshow(Box_edges, cmap=\"gray\")\n",
    "plt.show()"
   ]
  },
  {
   "cell_type": "markdown",
   "metadata": {},
   "source": [
    "### 2. Hough Transformation"
   ]
  },
  {
   "cell_type": "code",
   "execution_count": 3,
   "metadata": {},
   "outputs": [],
   "source": [
    "image = Box_edges\n",
    "def hough_transform(image):\n",
    "    width = image.shape[1]\n",
    "    height = image.shape[0]\n",
    "    \n",
    "    diag_len = np.ceil(np.sqrt(width * width + height * height)) # max distance for rho = length of diag.\n",
    "    # 2 * diag length : for positive and negative max distance. 0 being diag_len\n",
    "    rho_range = int(2*diag_len)\n",
    "    \n",
    "    # Initialize empty accumulator (filled with 0)\n",
    "    hough_accu = np.zeros([rho_range, 180])    # 180 because theta from 0 to 180\n",
    "\n",
    "    # get i and j indexes for all indexes \n",
    "    j_indexes, i_indexes = np.nonzero(image)\n",
    "\n",
    "    # Browsing into each pixel of edges picture\n",
    "    for k in range(len(j_indexes)):\n",
    "        # getting indexes of edge\n",
    "        i = i_indexes[k]\n",
    "        j = j_indexes[k]\n",
    "\n",
    "        # voting : for each value of theta\n",
    "        for theta in range(0, 180):\n",
    "            rho = int(np.round(i * np.cos(np.deg2rad(theta)) + j * np.sin(np.deg2rad(theta))) + diag_len)# positive index for rho\n",
    "            hough_accu[rho, theta] += 1\n",
    "    \n",
    "    return hough_accu\n",
    "hough_accu = hough_transform(image)"
   ]
  },
  {
   "cell_type": "markdown",
   "metadata": {},
   "source": [
    "### 3. Finding The Peak & Plotting.."
   ]
  },
  {
   "cell_type": "code",
   "execution_count": 4,
   "metadata": {},
   "outputs": [],
   "source": [
    "# Peak finding\n",
    "def peak_finding(hough_accu, min_distance = 45, max_peaks = 6, title ='Hough Transform'):\n",
    "\n",
    "    coordinates = peak_local_max(hough_accu, min_distance=min_distance, exclude_border = False, num_peaks =max_peaks)\n",
    "    \n",
    "    loca_maxs_rho = coordinates[:, 0]\n",
    "    loca_maxs_theta = coordinates[:, 1]\n",
    "    plt.imshow(hough_accu, cmap='gray',aspect='auto')\n",
    "    plt.title(title)\n",
    "\n",
    "    # Annotate local maximum\n",
    "    for i in range(len(loca_maxs_rho)):\n",
    "        plt.annotate('X',xy=(loca_maxs_theta[i],loca_maxs_rho[i]), arrowprops=dict(facecolor='yellow', shrink=0.03),)\n",
    "    plt.show()\n",
    "    return loca_maxs_rho, loca_maxs_theta"
   ]
  },
  {
   "cell_type": "markdown",
   "metadata": {},
   "source": [
    "### 4. Draw the Lines & Plotting.."
   ]
  },
  {
   "cell_type": "code",
   "execution_count": 5,
   "metadata": {},
   "outputs": [],
   "source": [
    "def draw_line(image, loca_maxs_rho, loca_maxs_theta, rgb = (0,255,0)):\n",
    "    image_copy = image.copy()\n",
    "    width = image_copy.shape[1]\n",
    "    height = image_copy.shape[0]\n",
    "    diag_len = np.ceil(np.sqrt(width * width + height * height)) \n",
    "    for j in range(len(loca_maxs_rho)):\n",
    "        rho = loca_maxs_rho[j] - diag_len\n",
    "        theta = loca_maxs_theta[j]\n",
    "        a = np.cos(np.deg2rad(theta))\n",
    "        b = np.sin(np.deg2rad(theta))\n",
    "        x1=int(a*rho - diag_len*b) \n",
    "        y1=int(b*rho + diag_len*a)\n",
    "        x2=int(a*rho + diag_len*b)\n",
    "        y2=int(b*rho - diag_len*a)\n",
    "        #print(x1,y1,x2,y2)\n",
    "        cv2.line(image_copy, (x1,y1),(x2,y2), rgb, 3) # green line\n",
    "        #print('Line {} | rho = {} theta = {}'.format(j,loca_maxs_rho[j], loca_maxs_theta[j]))\n",
    "        plt.imshow(image_copy)\n",
    "        plt.title('Detected Line')\n",
    "\n",
    "    plt.show()\n",
    "    return image_copy"
   ]
  },
  {
   "cell_type": "markdown",
   "metadata": {},
   "source": [
    "### 5. Applying the functions"
   ]
  },
  {
   "cell_type": "code",
   "execution_count": 7,
   "metadata": {},
   "outputs": [
    {
     "data": {
      "image/png": "[encoded data removed]",
      "text/plain": [
       "<Figure size 432x288 with 1 Axes>"
      ]
     },
     "metadata": {
      "needs_background": "light"
     },
     "output_type": "display_data"
    }
   ],
   "source": [
    "hough_accu = hough_transform(image)\n",
    "loca_maxs_rho, loca_maxs_theta = peak_finding(hough_accu, max_peaks=50, title='Hough Transform of Box')"
   ]
  },
  {
   "cell_type": "code",
   "execution_count": 8,
   "metadata": {},
   "outputs": [
    {
     "data": {
      "image/png": "[encoded data removed]",
      "text/plain": [
       "<Figure size 432x288 with 1 Axes>"
      ]
     },
     "metadata": {
      "needs_background": "light"
     },
     "output_type": "display_data"
    }
   ],
   "source": [
    "nDraw = draw_line(Box, loca_maxs_rho, loca_maxs_theta)"
   ]
  },
  {
   "cell_type": "markdown",
   "metadata": {},
   "source": [
    "<div class=\"alert alert-block alert-warning\">\n",
    "    2. Haugh Transform for Circles\n",
    "</div>"
   ]
  },
  {
   "cell_type": "markdown",
   "metadata": {},
   "source": [
    "* Circle: Center as (a, b) and Radius r \\begin{equation*} (\\mathtt{x}_i-a)^2 + (\\mathtt{y}_i-b)^2 = r^2 \\end{equation*}\n",
    "* For a fixed radius r, Unknown Gradient direction:\n",
    "\n",
    "<img src=\"Notebook Images/i1.jpg\" width=\"500\">\n",
    "\n",
    "### Applied on Image\n",
    "\n",
    "<img src=\"Notebook Images/i2.jpg\" width=\"500\">\n",
    "\n",
    "<img src=\"Notebook Images/i3.jpg\" width=\"500\">\n",
    "\n",
    "* Note: a diffrent Hough Transform (with a separate accumulators) was used for each circle radius (quarters vs. penny)"
   ]
  },
  {
   "cell_type": "markdown",
   "metadata": {},
   "source": [
    "<div class=\"alert alert-block alert-warning\">\n",
    "    3. What if we don't know the Radius?\n",
    "</div>"
   ]
  },
  {
   "cell_type": "markdown",
   "metadata": {},
   "source": [
    "\n",
    "<img src=\"Notebook Images/i4.jpg\" width=\"500\">\n",
    "\n",
    "### So that the algorithm will be..\n",
    "\n",
    "<img src=\"Notebook Images/i5.jpg\" width=\"500\">\n",
    "\n"
   ]
  },
  {
   "cell_type": "markdown",
   "metadata": {},
   "source": [
    "<div class=\"alert alert-block alert-warning\">\n",
    "    4. Generalized Hough Transform\n",
    "</div>"
   ]
  },
  {
   "cell_type": "markdown",
   "metadata": {},
   "source": [
    "1. For every edge point\n",
    "    - Compute Gradient direction θ\n",
    "    - Compute Displacemet vector r for refrence point\n",
    "2. Peak in Hough Space (x, y) is the refrence point with the most voting\n",
    "\n",
    "<img src=\"Notebook Images/Gx.jpg\" width=\"1000\">\n",
    "\n",
    "What about Orientation and Scaling ?\n",
    "\n",
    "<img src=\"Notebook Images/Ox.jpg\" width=\"500\">\n",
    "\n",
    "<img src=\"Notebook Images/Sx.jpg\" width=\"500\">\n",
    "\n",
    "* Peak in this Hough Space (now: X, Y, θ′) is the refrence point with most voting"
   ]
  },
  {
   "cell_type": "markdown",
   "metadata": {},
   "source": [
    "<div class=\"alert alert-block alert-warning\">\n",
    "    5. Modern Object Detection\n",
    "</div>"
   ]
  },
  {
   "cell_type": "markdown",
   "metadata": {},
   "source": [
    "Instead of indexing displacements by Gradient orientation, We index by \"Visual Keywords\"\n",
    "\n",
    "<img src=\"Notebook Images/Tx.jpg\" width=\"500\">\n",
    "\n",
    "<img src=\"Notebook Images/Fx.jpg\" width=\"1000\">\n",
    "\n",
    "<img src=\"Notebook Images/Mx.jpg\" width=\"500\">"
   ]
  }
 ],
 "metadata": {
  "kernelspec": {
   "display_name": "Python 3",
   "language": "python",
   "name": "python3"
  },
  "language_info": {
   "codemirror_mode": {
    "name": "ipython",
    "version": 3
   },
   "file_extension": ".py",
   "mimetype": "text/x-python",
   "name": "python",
   "nbconvert_exporter": "python",
   "pygments_lexer": "ipython3",
   "version": "3.7.4"
  }
 },
 "nbformat": 4,
 "nbformat_minor": 2
}
